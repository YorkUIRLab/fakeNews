{
 "cells": [
  {
   "cell_type": "markdown",
   "metadata": {},
   "source": [
    "# Classification and prediction of PolitiFact Statements"
   ]
  },
  {
   "cell_type": "code",
   "execution_count": 1,
   "metadata": {
    "collapsed": true
   },
   "outputs": [],
   "source": [
    "import pandas as pd\n",
    "import numpy as np\n",
    "import matplotlib.pyplot as plt\n",
    "\n",
    "from sklearn.model_selection import train_test_split\n",
    "from sklearn.feature_extraction.text import CountVectorizer\n",
    "from sklearn.feature_extraction.text import TfidfVectorizer\n",
    "from sklearn.metrics import precision_score, accuracy_score, roc_curve, confusion_matrix\n",
    "from sklearn import preprocessing\n",
    "from sklearn.utils import shuffle\n",
    "\n",
    "import itertools\n",
    "from sklearn import metrics\n",
    "import seaborn as sns\n",
    "\n",
    "# classifiers\n",
    "from sklearn.neighbors import KNeighborsClassifier\n",
    "\n",
    "\n",
    "%matplotlib inline\n",
    "sns.set(style='whitegrid', palette='muted')"
   ]
  },
  {
   "cell_type": "code",
   "execution_count": 2,
   "metadata": {},
   "outputs": [
    {
     "name": "stdout",
     "output_type": "stream",
     "text": [
      "['true' 'false']\n"
     ]
    },
    {
     "data": {
      "text/html": [
       "<div>\n",
       "<style>\n",
       "    .dataframe thead tr:only-child th {\n",
       "        text-align: right;\n",
       "    }\n",
       "\n",
       "    .dataframe thead th {\n",
       "        text-align: left;\n",
       "    }\n",
       "\n",
       "    .dataframe tbody tr th {\n",
       "        vertical-align: top;\n",
       "    }\n",
       "</style>\n",
       "<table border=\"1\" class=\"dataframe\">\n",
       "  <thead>\n",
       "    <tr style=\"text-align: right;\">\n",
       "      <th></th>\n",
       "      <th>Unnamed: 0</th>\n",
       "      <th>Unnamed: 0.1</th>\n",
       "      <th>article__meta</th>\n",
       "      <th>link</th>\n",
       "      <th>quote</th>\n",
       "      <th>ruling</th>\n",
       "      <th>statement__source</th>\n",
       "      <th>statement__text</th>\n",
       "      <th>label</th>\n",
       "      <th>token_count</th>\n",
       "    </tr>\n",
       "  </thead>\n",
       "  <tbody>\n",
       "    <tr>\n",
       "      <th>14393</th>\n",
       "      <td>8372</td>\n",
       "      <td>8372</td>\n",
       "      <td>on Tuesday, March 8th, 2016</td>\n",
       "      <td>/florida/statements/2016/mar/08/conservative-s...</td>\n",
       "      <td>Trump wanted vendors ousted</td>\n",
       "      <td>barely-true</td>\n",
       "      <td>Conservative Solutions PAC</td>\n",
       "      <td>Says Donald Trump \" bans disabled veterans fro...</td>\n",
       "      <td>false</td>\n",
       "      <td>14</td>\n",
       "    </tr>\n",
       "    <tr>\n",
       "      <th>14394</th>\n",
       "      <td>298</td>\n",
       "      <td>298</td>\n",
       "      <td>on Monday, April 25th, 2016</td>\n",
       "      <td>/pennsylvania/statements/2016/apr/25/bernie-s/...</td>\n",
       "      <td>Bernie speaks the truth about the soda tax</td>\n",
       "      <td>true</td>\n",
       "      <td>Bernie Sanders</td>\n",
       "      <td>\" A tax on soda and juice drinks would disprop...</td>\n",
       "      <td>true</td>\n",
       "      <td>22</td>\n",
       "    </tr>\n",
       "    <tr>\n",
       "      <th>14395</th>\n",
       "      <td>4598</td>\n",
       "      <td>4598</td>\n",
       "      <td>on Monday, August 30th, 2010</td>\n",
       "      <td>/florida/statements/2010/aug/30/rick-scott/ric...</td>\n",
       "      <td>Though they do more than just talk money</td>\n",
       "      <td>mostly-true</td>\n",
       "      <td>Rick Scott</td>\n",
       "      <td>\\r\\n\\t \" We have 50 state lobbyists that just ...</td>\n",
       "      <td>true</td>\n",
       "      <td>19</td>\n",
       "    </tr>\n",
       "    <tr>\n",
       "      <th>14396</th>\n",
       "      <td>8589</td>\n",
       "      <td>8589</td>\n",
       "      <td>on Thursday, April 23rd, 2015</td>\n",
       "      <td>/virginia/statements/2015/apr/23/joe-morrissey...</td>\n",
       "      <td>Campaign distortion</td>\n",
       "      <td>barely-true</td>\n",
       "      <td>Joe Morrissey</td>\n",
       "      <td>\" Rosalyn Dance voted against President Obama ...</td>\n",
       "      <td>false</td>\n",
       "      <td>13</td>\n",
       "    </tr>\n",
       "    <tr>\n",
       "      <th>14397</th>\n",
       "      <td>9595</td>\n",
       "      <td>9595</td>\n",
       "      <td>on Monday, October 10th, 2011</td>\n",
       "      <td>/ohio/statements/2011/oct/10/we-are-ohio/we-ar...</td>\n",
       "      <td>Just 4 to 6 nurses of each 100 in Ohio are pub...</td>\n",
       "      <td>barely-true</td>\n",
       "      <td>We Are Ohio</td>\n",
       "      <td>\\r\\n\\t \" Senate Bill 5 makes it harder for nur...</td>\n",
       "      <td>false</td>\n",
       "      <td>21</td>\n",
       "    </tr>\n",
       "  </tbody>\n",
       "</table>\n",
       "</div>"
      ],
      "text/plain": [
       "       Unnamed: 0  Unnamed: 0.1                  article__meta  \\\n",
       "14393        8372          8372    on Tuesday, March 8th, 2016   \n",
       "14394         298           298    on Monday, April 25th, 2016   \n",
       "14395        4598          4598   on Monday, August 30th, 2010   \n",
       "14396        8589          8589  on Thursday, April 23rd, 2015   \n",
       "14397        9595          9595  on Monday, October 10th, 2011   \n",
       "\n",
       "                                                    link  \\\n",
       "14393  /florida/statements/2016/mar/08/conservative-s...   \n",
       "14394  /pennsylvania/statements/2016/apr/25/bernie-s/...   \n",
       "14395  /florida/statements/2010/aug/30/rick-scott/ric...   \n",
       "14396  /virginia/statements/2015/apr/23/joe-morrissey...   \n",
       "14397  /ohio/statements/2011/oct/10/we-are-ohio/we-ar...   \n",
       "\n",
       "                                                   quote       ruling  \\\n",
       "14393                        Trump wanted vendors ousted  barely-true   \n",
       "14394         Bernie speaks the truth about the soda tax         true   \n",
       "14395           Though they do more than just talk money  mostly-true   \n",
       "14396                                Campaign distortion  barely-true   \n",
       "14397  Just 4 to 6 nurses of each 100 in Ohio are pub...  barely-true   \n",
       "\n",
       "                 statement__source  \\\n",
       "14393   Conservative Solutions PAC   \n",
       "14394               Bernie Sanders   \n",
       "14395                   Rick Scott   \n",
       "14396                Joe Morrissey   \n",
       "14397                  We Are Ohio   \n",
       "\n",
       "                                         statement__text  label  token_count  \n",
       "14393  Says Donald Trump \" bans disabled veterans fro...  false           14  \n",
       "14394  \" A tax on soda and juice drinks would disprop...   true           22  \n",
       "14395  \\r\\n\\t \" We have 50 state lobbyists that just ...   true           19  \n",
       "14396  \" Rosalyn Dance voted against President Obama ...  false           13  \n",
       "14397  \\r\\n\\t \" Senate Bill 5 makes it harder for nur...  false           21  "
      ]
     },
     "execution_count": 2,
     "metadata": {},
     "output_type": "execute_result"
    },
    {
     "data": {
      "image/png": "[encoded data removed]",
      "text/plain": [
       "<matplotlib.figure.Figure at 0x7f6500fb5da0>"
      ]
     },
     "metadata": {},
     "output_type": "display_data"
    }
   ],
   "source": [
    "data_train = pd.read_csv('data/politifact.tsv', sep='\\t')\n",
    "\n",
    "data_train = shuffle(data_train).reset_index(drop=True)\n",
    "\n",
    "# filter for experiment\n",
    "# data_train = data_train[:10000]\n",
    "\n",
    "data_train['ruling'].value_counts().plot(kind='bar', alpha=.5)\n",
    "\n",
    "data_train['label'] = '' \n",
    "def label(row):\n",
    "#     print(row)\n",
    "    if row in ['true', 'half-true', 'mostly-true']:\n",
    "        return 'true'\n",
    "    else:\n",
    "        return 'false'\n",
    "    \n",
    "def tokenize_count(row):\n",
    "    return len(row.split(' '))\n",
    "        \n",
    "data_train['label'] = data_train['ruling'].apply(label)\n",
    "data_train['token_count'] = data_train['statement__text'].apply(tokenize_count)\n",
    "\n",
    "labels = data_train['label'].unique()\n",
    "print(labels)\n",
    "\n",
    "# data_train['label'].value_counts().plot(kind='bar', alpha=.5)\n",
    "data_train.tail()"
   ]
  },
  {
   "cell_type": "code",
   "execution_count": 3,
   "metadata": {},
   "outputs": [
    {
     "data": {
      "text/plain": [
       "<matplotlib.axes._subplots.AxesSubplot at 0x7f6501a20208>"
      ]
     },
     "execution_count": 3,
     "metadata": {},
     "output_type": "execute_result"
    },
    {
     "data": {
      "image/png": "[encoded data removed]",
      "text/plain": [
       "<matplotlib.figure.Figure at 0x7f6501a0cc50>"
      ]
     },
     "metadata": {},
     "output_type": "display_data"
    }
   ],
   "source": [
    "data_train['label'].value_counts().plot(kind='bar', alpha=.5)"
   ]
  },
  {
   "cell_type": "code",
   "execution_count": 4,
   "metadata": {},
   "outputs": [
    {
     "data": {
      "text/plain": [
       "<matplotlib.axes._subplots.AxesSubplot at 0x7f6501948b70>"
      ]
     },
     "execution_count": 4,
     "metadata": {},
     "output_type": "execute_result"
    },
    {
     "data": {
      "image/png": "[encoded data removed]",
      "text/plain": [
       "<matplotlib.figure.Figure at 0x7f650199bc88>"
      ]
     },
     "metadata": {},
     "output_type": "display_data"
    }
   ],
   "source": [
    "data_train['token_count'].hist(bins=10, alpha=.5)"
   ]
  },
  {
   "cell_type": "code",
   "execution_count": 15,
   "metadata": {},
   "outputs": [
    {
     "data": {
      "text/html": [
       "<div>\n",
       "<style>\n",
       "    .dataframe thead tr:only-child th {\n",
       "        text-align: right;\n",
       "    }\n",
       "\n",
       "    .dataframe thead th {\n",
       "        text-align: left;\n",
       "    }\n",
       "\n",
       "    .dataframe tbody tr th {\n",
       "        vertical-align: top;\n",
       "    }\n",
       "</style>\n",
       "<table border=\"1\" class=\"dataframe\">\n",
       "  <thead>\n",
       "    <tr style=\"text-align: right;\">\n",
       "      <th></th>\n",
       "      <th>Unnamed: 0</th>\n",
       "      <th>title</th>\n",
       "      <th>text</th>\n",
       "      <th>label</th>\n",
       "    </tr>\n",
       "  </thead>\n",
       "  <tbody>\n",
       "    <tr>\n",
       "      <th>6330</th>\n",
       "      <td>4490</td>\n",
       "      <td>State Department says it can't find emails fro...</td>\n",
       "      <td>The State Department told the Republican Natio...</td>\n",
       "      <td>REAL</td>\n",
       "    </tr>\n",
       "    <tr>\n",
       "      <th>6331</th>\n",
       "      <td>8062</td>\n",
       "      <td>The ‘P’ in PBS Should Stand for ‘Plutocratic’ ...</td>\n",
       "      <td>The ‘P’ in PBS Should Stand for ‘Plutocratic’ ...</td>\n",
       "      <td>FAKE</td>\n",
       "    </tr>\n",
       "    <tr>\n",
       "      <th>6332</th>\n",
       "      <td>8622</td>\n",
       "      <td>Anti-Trump Protesters Are Tools of the Oligarc...</td>\n",
       "      <td>Anti-Trump Protesters Are Tools of the Oligar...</td>\n",
       "      <td>FAKE</td>\n",
       "    </tr>\n",
       "    <tr>\n",
       "      <th>6333</th>\n",
       "      <td>4021</td>\n",
       "      <td>In Ethiopia, Obama seeks progress on peace, se...</td>\n",
       "      <td>ADDIS ABABA, Ethiopia —President Obama convene...</td>\n",
       "      <td>REAL</td>\n",
       "    </tr>\n",
       "    <tr>\n",
       "      <th>6334</th>\n",
       "      <td>4330</td>\n",
       "      <td>Jeb Bush Is Suddenly Attacking Trump. Here's W...</td>\n",
       "      <td>Jeb Bush Is Suddenly Attacking Trump. Here's W...</td>\n",
       "      <td>REAL</td>\n",
       "    </tr>\n",
       "  </tbody>\n",
       "</table>\n",
       "</div>"
      ],
      "text/plain": [
       "      Unnamed: 0                                              title  \\\n",
       "6330        4490  State Department says it can't find emails fro...   \n",
       "6331        8062  The ‘P’ in PBS Should Stand for ‘Plutocratic’ ...   \n",
       "6332        8622  Anti-Trump Protesters Are Tools of the Oligarc...   \n",
       "6333        4021  In Ethiopia, Obama seeks progress on peace, se...   \n",
       "6334        4330  Jeb Bush Is Suddenly Attacking Trump. Here's W...   \n",
       "\n",
       "                                                   text label  \n",
       "6330  The State Department told the Republican Natio...  REAL  \n",
       "6331  The ‘P’ in PBS Should Stand for ‘Plutocratic’ ...  FAKE  \n",
       "6332   Anti-Trump Protesters Are Tools of the Oligar...  FAKE  \n",
       "6333  ADDIS ABABA, Ethiopia —President Obama convene...  REAL  \n",
       "6334  Jeb Bush Is Suddenly Attacking Trump. Here's W...  REAL  "
      ]
     },
     "execution_count": 15,
     "metadata": {},
     "output_type": "execute_result"
    },
    {
     "data": {
      "image/png": "[encoded data removed]",
      "text/plain": [
       "<matplotlib.figure.Figure at 0x7f65016f8cc0>"
      ]
     },
     "metadata": {},
     "output_type": "display_data"
    }
   ],
   "source": [
    "data_train = pd.read_csv('data/fake_or_real_news.csv')\n",
    "data_train['label'].value_counts().plot(kind='bar', alpha=.5)\n",
    "data_train.tail()"
   ]
  },
  {
   "cell_type": "markdown",
   "metadata": {},
   "source": [
    "# Preprocess"
   ]
  },
  {
   "cell_type": "code",
   "execution_count": 16,
   "metadata": {},
   "outputs": [
    {
     "name": "stderr",
     "output_type": "stream",
     "text": [
      "progress-bar: 100%|██████████| 6335/6335 [01:04<00:00, 97.59it/s] \n"
     ]
    }
   ],
   "source": [
    "import random\n",
    "import string\n",
    "import re\n",
    "import nltk\n",
    "from nltk import word_tokenize\n",
    "from nltk.corpus import stopwords\n",
    "from nltk.stem.porter import PorterStemmer\n",
    "from tqdm import tqdm\n",
    "tqdm.pandas(desc='progress-bar')\n",
    "\n",
    "stop = set(stopwords.words('english') + list(string.punctuation))\n",
    "stemmer = PorterStemmer()\n",
    "re_punct = re.compile('[' + ''.join(string.punctuation) + ']')\n",
    "\n",
    "def preprocess(text):\n",
    "    try:\n",
    "        text = text.lower()\n",
    "        tokens = word_tokenize(text)\n",
    "        tokens = [t for t in tokens if not t in stop]\n",
    "        tokens = [re.sub(re_punct, '', t) for t in tokens]\n",
    "        tokens = [t for t in tokens if len(t) > 2]\n",
    "        tokens = [stemmer.stem(t) for t in tokens]\n",
    "        if len(tokens) == 0:\n",
    "            return None\n",
    "        else:\n",
    "            return ' '.join(tokens)\n",
    "    except:\n",
    "        return None\n",
    "    \n",
    "data_train['tokens'] = data_train['text'].progress_map(preprocess)\n",
    "data_train = data_train[data_train['tokens'].notnull()]\n",
    "data_train.reset_index(inplace=True)\n",
    "data_train.drop('index', inplace=True, axis=1)\n",
    "data_train.tail()"
   ]
  },
  {
   "cell_type": "code",
   "execution_count": 17,
   "metadata": {},
   "outputs": [
    {
     "data": {
      "text/html": [
       "<div>\n",
       "<style>\n",
       "    .dataframe thead tr:only-child th {\n",
       "        text-align: right;\n",
       "    }\n",
       "\n",
       "    .dataframe thead th {\n",
       "        text-align: left;\n",
       "    }\n",
       "\n",
       "    .dataframe tbody tr th {\n",
       "        vertical-align: top;\n",
       "    }\n",
       "</style>\n",
       "<table border=\"1\" class=\"dataframe\">\n",
       "  <thead>\n",
       "    <tr style=\"text-align: right;\">\n",
       "      <th></th>\n",
       "      <th>Unnamed: 0</th>\n",
       "      <th>title</th>\n",
       "      <th>text</th>\n",
       "      <th>label</th>\n",
       "      <th>tokens</th>\n",
       "    </tr>\n",
       "  </thead>\n",
       "  <tbody>\n",
       "    <tr>\n",
       "      <th>6294</th>\n",
       "      <td>4490</td>\n",
       "      <td>State Department says it can't find emails fro...</td>\n",
       "      <td>The State Department told the Republican Natio...</td>\n",
       "      <td>REAL</td>\n",
       "      <td>state depart told republican nation committe c...</td>\n",
       "    </tr>\n",
       "    <tr>\n",
       "      <th>6295</th>\n",
       "      <td>8062</td>\n",
       "      <td>The ‘P’ in PBS Should Stand for ‘Plutocratic’ ...</td>\n",
       "      <td>The ‘P’ in PBS Should Stand for ‘Plutocratic’ ...</td>\n",
       "      <td>FAKE</td>\n",
       "      <td>‘p’ pb stand ‘plutocratic’ ‘pentagon’ post oct...</td>\n",
       "    </tr>\n",
       "    <tr>\n",
       "      <th>6296</th>\n",
       "      <td>8622</td>\n",
       "      <td>Anti-Trump Protesters Are Tools of the Oligarc...</td>\n",
       "      <td>Anti-Trump Protesters Are Tools of the Oligar...</td>\n",
       "      <td>FAKE</td>\n",
       "      <td>antitrump protest tool oligarchi reform alway...</td>\n",
       "    </tr>\n",
       "    <tr>\n",
       "      <th>6297</th>\n",
       "      <td>4021</td>\n",
       "      <td>In Ethiopia, Obama seeks progress on peace, se...</td>\n",
       "      <td>ADDIS ABABA, Ethiopia —President Obama convene...</td>\n",
       "      <td>REAL</td>\n",
       "      <td>addi ababa ethiopia —presid obama conven meet ...</td>\n",
       "    </tr>\n",
       "    <tr>\n",
       "      <th>6298</th>\n",
       "      <td>4330</td>\n",
       "      <td>Jeb Bush Is Suddenly Attacking Trump. Here's W...</td>\n",
       "      <td>Jeb Bush Is Suddenly Attacking Trump. Here's W...</td>\n",
       "      <td>REAL</td>\n",
       "      <td>jeb bush suddenli attack trump matter jeb bush...</td>\n",
       "    </tr>\n",
       "  </tbody>\n",
       "</table>\n",
       "</div>"
      ],
      "text/plain": [
       "      Unnamed: 0                                              title  \\\n",
       "6294        4490  State Department says it can't find emails fro...   \n",
       "6295        8062  The ‘P’ in PBS Should Stand for ‘Plutocratic’ ...   \n",
       "6296        8622  Anti-Trump Protesters Are Tools of the Oligarc...   \n",
       "6297        4021  In Ethiopia, Obama seeks progress on peace, se...   \n",
       "6298        4330  Jeb Bush Is Suddenly Attacking Trump. Here's W...   \n",
       "\n",
       "                                                   text label  \\\n",
       "6294  The State Department told the Republican Natio...  REAL   \n",
       "6295  The ‘P’ in PBS Should Stand for ‘Plutocratic’ ...  FAKE   \n",
       "6296   Anti-Trump Protesters Are Tools of the Oligar...  FAKE   \n",
       "6297  ADDIS ABABA, Ethiopia —President Obama convene...  REAL   \n",
       "6298  Jeb Bush Is Suddenly Attacking Trump. Here's W...  REAL   \n",
       "\n",
       "                                                 tokens  \n",
       "6294  state depart told republican nation committe c...  \n",
       "6295  ‘p’ pb stand ‘plutocratic’ ‘pentagon’ post oct...  \n",
       "6296  antitrump protest tool oligarchi reform alway...  \n",
       "6297  addi ababa ethiopia —presid obama conven meet ...  \n",
       "6298  jeb bush suddenli attack trump matter jeb bush...  "
      ]
     },
     "execution_count": 17,
     "metadata": {},
     "output_type": "execute_result"
    }
   ],
   "source": [
    "data_train.tail()"
   ]
  },
  {
   "cell_type": "code",
   "execution_count": 19,
   "metadata": {},
   "outputs": [
    {
     "name": "stdout",
     "output_type": "stream",
     "text": [
      "X.shape (6299, 1408555)\n"
     ]
    }
   ],
   "source": [
    "TF_IDF = True\n",
    "\n",
    "# X = data_train['statement__text'].values\n",
    "# y = data_train['ruling']\n",
    "# y = data_train['label']\n",
    "\n",
    "X = data_train['tokens'].values\n",
    "y = data_train['label']\n",
    "\n",
    "classes = data_train['label'].unique()\n",
    "\n",
    "\n",
    "if TF_IDF:\n",
    "    vect = TfidfVectorizer(norm='l2', ngram_range=(1, 2), lowercase=True, stop_words='english')\n",
    "#     vect = CountVectorizer(min_df=2,ngram_range=(1, 2)) # Count Vectorizer\n",
    "    X = vect.fit_transform(X)\n",
    "\n",
    "#     svd = TruncatedSVD(n_components=120)\n",
    "#     X = svd.fit_transform(X)\n",
    "    print('X.shape', X.shape)    \n",
    "#     print(X[1])\n",
    "else:\n",
    "    X = data_train['glove'].values\n",
    "    X = np.array(list(X), dtype=np.float)\n",
    "#     X = preprocessing.normalize(X)\n",
    "    print('X.shape', X.shape)\n",
    "\n",
    "\n"
   ]
  },
  {
   "cell_type": "code",
   "execution_count": null,
   "metadata": {
    "collapsed": true
   },
   "outputs": [],
   "source": [
    "from os.path import expanduser, exists\n",
    "\n",
    "embeddings_index = {}\n",
    "KERAS_DATASETS_DIR = expanduser('~/.keras/datasets/')\n",
    "GLOVE_FILE = 'glove.840B.300d.txt'\n",
    "\n",
    "print(\"Processing\", GLOVE_FILE)\n",
    "\n",
    "embeddings_index = {}\n",
    "with open(KERAS_DATASETS_DIR + GLOVE_FILE, encoding='utf-8') as f:\n",
    "    for line in f:\n",
    "        values = line.split(' ')\n",
    "        word = values[0]\n",
    "        embedding = np.asarray(values[1:], dtype='float32')\n",
    "        embeddings_index[word] = embedding\n",
    "\n",
    "print('Word embeddings: %d' % len(embeddings_index))\n"
   ]
  },
  {
   "cell_type": "code",
   "execution_count": null,
   "metadata": {
    "collapsed": true
   },
   "outputs": [],
   "source": [
    "\n",
    "EMBEDDING_DIM = 300\n",
    "vect = TfidfVectorizer(norm='l2')\n",
    "vect.fit_transform(data_train['TokenizedContent'].values)\n",
    "print(len(vect.vocabulary_))\n",
    "\n",
    "def sent2vec(s):\n",
    "    words = str(s).lower().split(' ')\n",
    "    M = []\n",
    "    for w in words:\n",
    "        try:\n",
    "            M.append(embeddings_index[w])\n",
    "        except:\n",
    "            continue\n",
    "    M = np.array(M)\n",
    "    v = M.sum(axis=0)\n",
    "    if type(v) != np.ndarray:\n",
    "        return np.random.uniform(EMBEDDING_DIM)\n",
    "    \n",
    "    return np.mean(M, axis=0)\n",
    "#     return v / np.sqrt((v ** 2).sum())\n",
    "\n",
    "data_train['glove'] = data_train['TokenizedContent'].apply(sent2vec)\n",
    "data_train.to_csv('data/hansard_processed_all.csv')\n",
    "data_train.tail()"
   ]
  },
  {
   "cell_type": "code",
   "execution_count": 12,
   "metadata": {
    "collapsed": true
   },
   "outputs": [],
   "source": [
    "def plot_confusion_matrix(cm, classes,\n",
    "                          normalize=False,\n",
    "                          title='Confusion matrix',\n",
    "                          cmap=plt.cm.Blues):\n",
    "    \"\"\"\n",
    "    This function prints and plots the confusion matrix.\n",
    "    Normalization can be applied by setting `normalize=True`.\n",
    "    \"\"\"\n",
    "    if normalize:\n",
    "        cm = cm.astype('float') / cm.sum(axis=1)[:, np.newaxis]\n",
    "        print(\"Normalized confusion matrix\")\n",
    "    else:\n",
    "        print('Confusion matrix, without normalization')\n",
    "\n",
    "    print(cm)\n",
    "\n",
    "    plt.imshow(cm, interpolation='nearest', cmap=cmap)\n",
    "    plt.title(title)\n",
    "    plt.colorbar()\n",
    "    tick_marks = np.arange(len(classes))\n",
    "    plt.xticks(tick_marks, classes, rotation=45)\n",
    "    plt.yticks(tick_marks, classes)\n",
    "\n",
    "    fmt = '.2f' if normalize else 'd'\n",
    "    thresh = cm.max() / 2.\n",
    "    for i, j in itertools.product(range(cm.shape[0]), range(cm.shape[1])):\n",
    "        plt.text(j, i, format(cm[i, j], fmt),\n",
    "                 horizontalalignment=\"center\",\n",
    "                 color=\"white\" if cm[i, j] > thresh else \"black\")\n",
    "\n",
    "    plt.tight_layout()\n",
    "    plt.ylabel('True label')\n",
    "    plt.xlabel('Predicted label')"
   ]
  },
  {
   "cell_type": "code",
   "execution_count": 13,
   "metadata": {},
   "outputs": [
    {
     "name": "stdout",
     "output_type": "stream",
     "text": [
      "KNeighbors KNeighborsClassifier(algorithm='auto', leaf_size=30, metric='minkowski',\n",
      "           metric_params=None, n_jobs=1, n_neighbors=3, p=2,\n",
      "           weights='uniform')\n",
      "             precision    recall  f1-score   support\n",
      "\n",
      "       true      0.514     1.000     0.679      3164\n",
      "      false      1.000     0.057     0.108      3171\n",
      "\n",
      "avg / total      0.757     0.528     0.393      6335\n",
      "\n",
      "metric accuracy Score 0.5280189423835833\n",
      "Confusion matrix, without normalization\n",
      "[[3164    0]\n",
      " [2990  181]]\n"
     ]
    },
    {
     "data": {
      "image/png": "[encoded data removed]",
      "text/plain": [
       "<matplotlib.figure.Figure at 0x7f64f50ae278>"
      ]
     },
     "metadata": {},
     "output_type": "display_data"
    },
    {
     "name": "stdout",
     "output_type": "stream",
     "text": [
      "----------------------------------------------------------------------------------------------------\n",
      "XGBoostClassifier XGBClassifier(base_score=0.5, booster='gbtree', colsample_bylevel=1,\n",
      "       colsample_bytree=1, gamma=0, learning_rate=0.1, max_delta_step=0,\n",
      "       max_depth=3, min_child_weight=1, missing=None, n_estimators=100,\n",
      "       n_jobs=1, nthread=None, objective='binary:logistic', random_state=0,\n",
      "       reg_alpha=0, reg_lambda=1, scale_pos_weight=1, seed=42, silent=True,\n",
      "       subsample=1)\n"
     ]
    },
    {
     "name": "stderr",
     "output_type": "stream",
     "text": [
      "/home/paperspace/anaconda3/lib/python3.6/site-packages/sklearn/preprocessing/label.py:151: DeprecationWarning: The truth value of an empty array is ambiguous. Returning False, but in future this will result in an error. Use `array.size > 0` to check that an array is not empty.\n",
      "  if diff:\n",
      "/home/paperspace/anaconda3/lib/python3.6/site-packages/sklearn/preprocessing/label.py:151: DeprecationWarning: The truth value of an empty array is ambiguous. Returning False, but in future this will result in an error. Use `array.size > 0` to check that an array is not empty.\n",
      "  if diff:\n",
      "/home/paperspace/anaconda3/lib/python3.6/site-packages/sklearn/preprocessing/label.py:151: DeprecationWarning: The truth value of an empty array is ambiguous. Returning False, but in future this will result in an error. Use `array.size > 0` to check that an array is not empty.\n",
      "  if diff:\n",
      "/home/paperspace/anaconda3/lib/python3.6/site-packages/sklearn/preprocessing/label.py:151: DeprecationWarning: The truth value of an empty array is ambiguous. Returning False, but in future this will result in an error. Use `array.size > 0` to check that an array is not empty.\n",
      "  if diff:\n",
      "/home/paperspace/anaconda3/lib/python3.6/site-packages/sklearn/preprocessing/label.py:151: DeprecationWarning: The truth value of an empty array is ambiguous. Returning False, but in future this will result in an error. Use `array.size > 0` to check that an array is not empty.\n",
      "  if diff:\n"
     ]
    },
    {
     "name": "stdout",
     "output_type": "stream",
     "text": [
      "             precision    recall  f1-score   support\n",
      "\n",
      "       true      0.874     0.920     0.896      3164\n",
      "      false      0.916     0.868     0.891      3171\n",
      "\n",
      "avg / total      0.895     0.894     0.894      6335\n",
      "\n",
      "metric accuracy Score 0.8937647987371744\n",
      "Confusion matrix, without normalization\n",
      "[[2910  254]\n",
      " [ 419 2752]]\n"
     ]
    },
    {
     "data": {
      "image/png": "[encoded data removed]",
      "text/plain": [
       "<matplotlib.figure.Figure at 0x7f65017c8860>"
      ]
     },
     "metadata": {},
     "output_type": "display_data"
    },
    {
     "name": "stdout",
     "output_type": "stream",
     "text": [
      "----------------------------------------------------------------------------------------------------\n",
      "LogisticRegression LogisticRegression(C=15, class_weight=None, dual=False, fit_intercept=True,\n",
      "          intercept_scaling=1, max_iter=100, multi_class='ovr', n_jobs=1,\n",
      "          penalty='l2', random_state=42, solver='liblinear', tol=0.0001,\n",
      "          verbose=0, warm_start=False)\n",
      "             precision    recall  f1-score   support\n",
      "\n",
      "       true      0.906     0.959     0.932      3164\n",
      "      false      0.957     0.901     0.928      3171\n",
      "\n",
      "avg / total      0.932     0.930     0.930      6335\n",
      "\n",
      "metric accuracy Score 0.9300710339384373\n",
      "Confusion matrix, without normalization\n",
      "[[3035  129]\n",
      " [ 314 2857]]\n"
     ]
    },
    {
     "data": {
      "image/png": "[encoded data removed]",
      "text/plain": [
       "<matplotlib.figure.Figure at 0x7f64f50a8588>"
      ]
     },
     "metadata": {},
     "output_type": "display_data"
    },
    {
     "name": "stdout",
     "output_type": "stream",
     "text": [
      "----------------------------------------------------------------------------------------------------\n",
      "MLPClassifier MLPClassifier(activation='relu', alpha=0.0001, batch_size='auto', beta_1=0.9,\n",
      "       beta_2=0.999, early_stopping=False, epsilon=1e-08,\n",
      "       hidden_layer_sizes=(30, 30, 30), learning_rate='constant',\n",
      "       learning_rate_init=0.001, max_iter=200, momentum=0.9,\n",
      "       nesterovs_momentum=True, power_t=0.5, random_state=None,\n",
      "       shuffle=True, solver='adam', tol=0.0001, validation_fraction=0.1,\n",
      "       verbose=False, warm_start=False)\n",
      "             precision    recall  f1-score   support\n",
      "\n",
      "       true      0.861     0.979     0.916      3164\n",
      "      false      0.975     0.842     0.904      3171\n",
      "\n",
      "avg / total      0.918     0.910     0.910      6335\n",
      "\n",
      "metric accuracy Score 0.9103393843725336\n",
      "Confusion matrix, without normalization\n",
      "[[3096   68]\n",
      " [ 500 2671]]\n"
     ]
    },
    {
     "data": {
      "image/png": "[encoded data removed]",
      "text/plain": [
       "<matplotlib.figure.Figure at 0x7f64f1629940>"
      ]
     },
     "metadata": {},
     "output_type": "display_data"
    },
    {
     "name": "stdout",
     "output_type": "stream",
     "text": [
      "----------------------------------------------------------------------------------------------------\n",
      "SVC SVC(C=1.0, cache_size=200, class_weight=None, coef0=0.0,\n",
      "  decision_function_shape='ovr', degree=3, gamma='auto', kernel='linear',\n",
      "  max_iter=-1, probability=False, random_state=None, shrinking=True,\n",
      "  tol=0.001, verbose=False)\n",
      "             precision    recall  f1-score   support\n",
      "\n",
      "       true      0.915     0.962     0.938      3164\n",
      "      false      0.960     0.911     0.935      3171\n",
      "\n",
      "avg / total      0.938     0.937     0.937      6335\n",
      "\n",
      "metric accuracy Score 0.9367008681925809\n",
      "Confusion matrix, without normalization\n",
      "[[3044  120]\n",
      " [ 281 2890]]\n"
     ]
    },
    {
     "data": {
      "image/png": "[encoded data removed]",
      "text/plain": [
       "<matplotlib.figure.Figure at 0x7f64f1604be0>"
      ]
     },
     "metadata": {},
     "output_type": "display_data"
    },
    {
     "name": "stdout",
     "output_type": "stream",
     "text": [
      "----------------------------------------------------------------------------------------------------\n",
      "CPU times: user 1h 6min 41s, sys: 29min 32s, total: 1h 36min 14s\n",
      "Wall time: 1h 36min 10s\n"
     ]
    }
   ],
   "source": [
    "%%time\n",
    "\n",
    "from sklearn.model_selection import StratifiedKFold\n",
    "from sklearn.model_selection import cross_val_score\n",
    "from sklearn.model_selection import cross_val_predict\n",
    "\n",
    "from sklearn.neighbors.nearest_centroid import NearestCentroid\n",
    "from sklearn.naive_bayes import MultinomialNB\n",
    "from sklearn.linear_model import LogisticRegression\n",
    "from sklearn.tree import DecisionTreeClassifier\n",
    "from sklearn.linear_model import SGDClassifier\n",
    "from sklearn.neural_network import MLPClassifier, BernoulliRBM\n",
    "from sklearn.naive_bayes import GaussianNB, BernoulliNB\n",
    "from sklearn.ensemble import AdaBoostClassifier\n",
    "from sklearn.ensemble import RandomForestClassifier\n",
    "from sklearn.svm import SVC\n",
    "from sklearn.decomposition import TruncatedSVD\n",
    "from xgboost import XGBClassifier as XGBoostClassifier\n",
    "from sklearn.linear_model import PassiveAggressiveClassifier\n",
    "\n",
    "\n",
    "skf = StratifiedKFold(n_splits=5, random_state=42, shuffle=True)\n",
    "# print(skf)  \n",
    "score = []\n",
    "\n",
    "# print(X[9])\n",
    "\n",
    "classifiers = {\n",
    "    'KNeighbors' : KNeighborsClassifier(n_neighbors=3),               \n",
    "#     'Centroid': NearestCentroid(),               \n",
    "#     'MultinomialNB': MultinomialNB(), \n",
    "    'XGBoostClassifier' : XGBoostClassifier(seed=42),\n",
    "#     'BernoulliNB' : BernoulliNB(),\n",
    "    'LogisticRegression' : LogisticRegression(C=15, random_state=42),    \n",
    "    'PassiveAggressiveClassifier' : PassiveAggressiveClassifier(max_iter=50),\n",
    "#     'DecisionTreeClassifier' : DecisionTreeClassifier(max_depth=10, random_state=42),               \n",
    "#     'SGDClassifier' : SGDClassifier(loss='hinge', penalty='l2', alpha=1e-3, random_state=42, max_iter=1000 ),               \n",
    "    'MLPClassifier' : MLPClassifier(hidden_layer_sizes=(30,30,30)), \n",
    "#     'AdaBoostClassifier' : AdaBoostClassifier(n_estimators=100),               \n",
    "#     'RandomForestClassifier' : RandomForestClassifier(max_depth=20, random_state=42),             \n",
    "    'SVC' : SVC(kernel='linear')\n",
    "}\n",
    "\n",
    "for name, classifier in classifiers.items():\n",
    "    print(name, classifier)\n",
    "#     scores = cross_val_score(classifier, X, y, cv=skf)\n",
    "    predicted = cross_val_predict(classifier, X, y, cv=skf)\n",
    "    \n",
    "    print(metrics.classification_report(y, predicted, \n",
    "                                        target_names=classes, digits=3))\n",
    "    print('metric accuracy Score' , metrics.accuracy_score(y, predicted) )\n",
    "#     print(\"%s Accuracy: %0.3f (+/- %0.3f)\" % (name, scores.mean(), scores.std() * 2))\n",
    "\n",
    "    CM = confusion_matrix(y_pred=predicted, y_true=y) \n",
    "    #     Plot normalized confusion matrix\n",
    "    plt.figure()\n",
    "    plot_confusion_matrix(CM, classes=classes, title='Confusion matrix')\n",
    "    plt.show()\n",
    "    print('-' * 100)"
   ]
  },
  {
   "cell_type": "code",
   "execution_count": 31,
   "metadata": {},
   "outputs": [
    {
     "name": "stdout",
     "output_type": "stream",
     "text": [
      "X_train.shape (5039, 1408555) y_train.shape (5039,)\n",
      "X_test.shape (1260, 1408555) y_test.shape (1260,)\n",
      "accuracy:   0.953\n",
      "FAKE -4.456644853334635 2016\n",
      "FAKE -3.9387436640489413 octob\n",
      "FAKE -3.432693933810341 octob 2016\n",
      "FAKE -2.887158349969387 hillari\n",
      "FAKE -2.776831038340525 elect\n",
      "FAKE -2.7696604018778124 novemb 2016\n",
      "FAKE -2.6613047892235953 articl\n",
      "FAKE -2.542454551693278 share\n",
      "FAKE -2.4965145695004343 novemb\n",
      "FAKE -2.444665876892436 sourc\n",
      "FAKE -2.251865882873078 hillari clinton\n",
      "FAKE -2.1885615818141555 podesta\n",
      "FAKE -2.127852290703427 war\n",
      "FAKE -2.1191524981060055 mosul\n",
      "FAKE -2.034928771771543 post\n",
      "FAKE -1.7837707370994016 russia\n",
      "FAKE -1.7505393368328874 print\n",
      "FAKE -1.745134619750021 corrupt\n",
      "FAKE -1.733199546681046 fbi\n",
      "FAKE -1.704249035888828 establish\n",
      "FAKE -1.680338389983756 don\n",
      "FAKE -1.6430148061869283 snip\n",
      "FAKE -1.602461371943309 wikileak\n",
      "FAKE -1.5700420504368375 oct\n",
      "FAKE -1.5577529267492554 imag\n",
      "FAKE -1.5211113763868305 comment\n",
      "FAKE -1.4604686651934289 donald trump\n",
      "FAKE -1.4587206648608348 reno\n",
      "FAKE -1.4390785542908977 advertis\n",
      "FAKE -1.4189080599401878 howev\n",
      "\n",
      "REAL 5.831694648747109 said\n",
      "REAL 3.41751724153869 say\n",
      "REAL 3.2654272700816223 conserv\n",
      "REAL 2.8601246412961046 republican\n",
      "REAL 2.566621749840776 debat\n",
      "REAL 2.5082545995662335 cruz\n",
      "REAL 2.3476496251537426 gop\n",
      "REAL 2.1593792241069325 candid\n",
      "REAL 1.9969102959191545 job\n",
      "REAL 1.9862692212431017 tuesday\n",
      "REAL 1.9495820698758264 presid\n",
      "REAL 1.9186956057807627 friday\n",
      "REAL 1.8209859277721823 sen\n",
      "REAL 1.8149742355419827 marriag\n",
      "REAL 1.7783404503900897 sander\n",
      "REAL 1.7752707376405974 monday\n",
      "REAL 1.7702958109664377 attack\n",
      "REAL 1.7520862193473226 convent\n",
      "REAL 1.6594317253218598 fox\n",
      "REAL 1.6498384467067135 polar\n",
      "REAL 1.6476449971285025 fox news\n",
      "REAL 1.632235813398817 primari\n",
      "REAL 1.6146026488090255 polit\n",
      "REAL 1.6113017203010775 race\n",
      "REAL 1.5961290142121578 islam state\n",
      "REAL 1.573434360930312 cnn\n",
      "REAL 1.5547057209856225 sunday\n",
      "REAL 1.5293373557622498 islam\n",
      "REAL 1.5177093432593738 state\n",
      "REAL 1.4958437182642996 saturday\n"
     ]
    }
   ],
   "source": [
    "\n",
    "# X = data_train['TokenizedContent'].values\n",
    "# print(len(X))\n",
    "# y = data_train['target']\n",
    "# y = pd.get_dummies(data_train['label']).values\n",
    "\n",
    "X_train, X_test, y_train, y_test = train_test_split(X, y, test_size=0.2, stratify=y, random_state=42)\n",
    "\n",
    "print('X_train.shape', X_train.shape, 'y_train.shape', y_train.shape)\n",
    "print('X_test.shape', X_test.shape, 'y_test.shape', y_test.shape)\n",
    "# print(y)\n",
    "\n",
    "\n",
    "classifier = PassiveAggressiveClassifier(max_iter=50)\n",
    "# classifier = LogisticRegression(C=15, random_state=42)\n",
    "classifier.fit(X_train, y_train)\n",
    "pred = classifier.predict(X_test)\n",
    "\n",
    "score = metrics.accuracy_score(y_test, pred)\n",
    "print(\"accuracy:   %0.3f\" % score)\n",
    "   \n",
    "def most_informative_feature_for_binary_classification(vectorizer, classifier, n=100):\n",
    "    \"\"\"\n",
    "    See: https://stackoverflow.com/a/26980472\n",
    "    \n",
    "    Identify most important features if given a vectorizer and binary classifier. Set n to the number\n",
    "    of weighted features you would like to show. (Note: current implementation merely prints and does not \n",
    "    return top classes.)\n",
    "    \"\"\"\n",
    "\n",
    "    class_labels = classifier.classes_\n",
    "    feature_names = vectorizer.get_feature_names()\n",
    "    topn_class1 = sorted(zip(classifier.coef_[0], feature_names))[:n]\n",
    "    topn_class2 = sorted(zip(classifier.coef_[0], feature_names))[-n:]\n",
    "\n",
    "    for coef, feat in topn_class1:\n",
    "        print(class_labels[0], coef, feat)\n",
    "\n",
    "    print()\n",
    "\n",
    "    for coef, feat in reversed(topn_class2):\n",
    "        print(class_labels[1], coef, feat)\n",
    "\n",
    "\n",
    "most_informative_feature_for_binary_classification(vect, classifier, n=30)"
   ]
  },
  {
   "cell_type": "code",
   "execution_count": null,
   "metadata": {
    "collapsed": true
   },
   "outputs": [],
   "source": []
  },
  {
   "cell_type": "code",
   "execution_count": null,
   "metadata": {
    "collapsed": true
   },
   "outputs": [],
   "source": []
  }
 ],
 "metadata": {
  "kernelspec": {
   "display_name": "Python 3",
   "language": "python",
   "name": "python3"
  },
  "language_info": {
   "codemirror_mode": {
    "name": "ipython",
    "version": 3
   },
   "file_extension": ".py",
   "mimetype": "text/x-python",
   "name": "python",
   "nbconvert_exporter": "python",
   "pygments_lexer": "ipython3",
   "version": "3.6.2"
  }
 },
 "nbformat": 4,
 "nbformat_minor": 1
}
